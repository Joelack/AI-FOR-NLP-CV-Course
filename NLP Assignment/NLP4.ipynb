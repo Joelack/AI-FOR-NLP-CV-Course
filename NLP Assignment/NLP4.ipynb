{
 "cells": [
  {
   "cell_type": "markdown",
   "metadata": {},
   "source": [
    "## Dynamic Programming For Cutting Problems上面是自己的程序，老师的程序在下面"
   ]
  },
  {
   "cell_type": "code",
   "execution_count": 3,
   "metadata": {},
   "outputs": [],
   "source": [
    "from collections import defaultdict"
   ]
  },
  {
   "cell_type": "code",
   "execution_count": 2,
   "metadata": {},
   "outputs": [],
   "source": [
    "original_price = [1, 5, 8, 9, 10, 17, 17, 20, 24, 30]\n",
    "price=defaultdict(int)#定义一个int形的字典，设置成字典有个好处就是在key不存在时返回0，不会报错\n",
    "for i, j in enumerate(original_price):\n",
    "    price[i+1]=j\n",
    "assert price[1]==1\n"
   ]
  },
  {
   "cell_type": "code",
   "execution_count": 3,
   "metadata": {},
   "outputs": [],
   "source": [
    "def r(n):#返回长度是n的最优分解方法\n",
    "    #返回n的所有二元素分解方法，中的最大值 根据这个函数定义就是在r(n),r(n-1)+r(n),....r(2)+r(n-2),r(1)+r(n-1)的最大值\n",
    "    return max([price[n]]+[r(i)+r(n-i) for i in range(1,n)])\n",
    "    "
   ]
  },
  {
   "cell_type": "code",
   "execution_count": 4,
   "metadata": {},
   "outputs": [
    {
     "data": {
      "text/plain": [
       "22"
      ]
     },
     "execution_count": 4,
     "metadata": {},
     "output_type": "execute_result"
    }
   ],
   "source": [
    "r(8)"
   ]
  },
  {
   "cell_type": "code",
   "execution_count": 5,
   "metadata": {},
   "outputs": [],
   "source": [
    "#上面的方法不能获得具体的切割方法，进行改进记录切割方法\n",
    "solution={}#记录切割方法"
   ]
  },
  {
   "cell_type": "code",
   "execution_count": 6,
   "metadata": {},
   "outputs": [],
   "source": [
    "def r2(n):#返回最大价格时切割方法和，切割时一段长度，另一段长度就是n-i\n",
    "    price_max,long_split=max([(price[n],0)]+[(r2(i)+r2(n-i),i) for i in range(1,n)], key=lambda x:x[0])\n",
    "    solution[n]=(long_split,n-long_split)\n",
    "    return price_max"
   ]
  },
  {
   "cell_type": "code",
   "execution_count": 7,
   "metadata": {},
   "outputs": [
    {
     "name": "stdout",
     "output_type": "stream",
     "text": [
      "43\n"
     ]
    },
    {
     "data": {
      "text/plain": [
       "{1: (0, 1),\n",
       " 2: (0, 2),\n",
       " 3: (0, 3),\n",
       " 4: (2, 2),\n",
       " 5: (2, 3),\n",
       " 6: (0, 6),\n",
       " 7: (1, 6),\n",
       " 8: (2, 6),\n",
       " 9: (3, 6),\n",
       " 10: (0, 10),\n",
       " 11: (1, 10),\n",
       " 12: (2, 10),\n",
       " 13: (3, 10),\n",
       " 14: (2, 12),\n",
       " 15: (2, 13)}"
      ]
     },
     "execution_count": 7,
     "metadata": {},
     "output_type": "execute_result"
    }
   ],
   "source": [
    "#记录每个n的最优分解方法，就可以一步一步的解析出整个长度的最优分解方法\n",
    "solution={}\n",
    "print(r2(15))\n",
    "solution"
   ]
  },
  {
   "cell_type": "code",
   "execution_count": 8,
   "metadata": {},
   "outputs": [],
   "source": [
    "#以上还是存在问题的，就是计算速度慢。主要原因是重复计算量大，\n",
    "#假如15,最优分解是2+13，这是计算了1-14所有的最优解，在计算13的最优解时又计算了一遍1-12，出现很大的重复计算量\n",
    "#解决方法是把我们计算过得子问题最优解都存储在一个变量中，先去查边，没有表就计算然后把计算值放入该变量中\n",
    "def r3(n):#返回最大价格时切割方法和，切割时一段长度，另一段长度就是n-i\n",
    "    if n not in solution:\n",
    "        price_max,long_split=max([(price[n],0)]+[(r3(i)+r3(n-i),i) for i in range(1,n)], key=lambda x:x[0])\n",
    "        #print(price_max,n)\n",
    "        solution[n]=(price_max,long_split,n-long_split)\n",
    "        return price_max\n",
    "    else:\n",
    "        return solution[n][0]"
   ]
  },
  {
   "cell_type": "code",
   "execution_count": 10,
   "metadata": {},
   "outputs": [
    {
     "data": {
      "text/plain": [
       "{1: (1, 0, 1),\n",
       " 2: (5, 0, 2),\n",
       " 3: (8, 0, 3),\n",
       " 4: (10, 2, 2),\n",
       " 5: (13, 2, 3),\n",
       " 6: (17, 0, 6),\n",
       " 7: (18, 1, 6),\n",
       " 8: (22, 2, 6),\n",
       " 9: (25, 3, 6),\n",
       " 10: (30, 0, 10),\n",
       " 11: (31, 1, 10),\n",
       " 12: (35, 2, 10),\n",
       " 13: (38, 3, 10),\n",
       " 14: (40, 2, 12),\n",
       " 15: (43, 2, 13),\n",
       " 16: (47, 6, 10),\n",
       " 17: (48, 1, 16),\n",
       " 18: (52, 2, 16),\n",
       " 19: (55, 3, 16),\n",
       " 20: (60, 10, 10),\n",
       " 21: (61, 1, 20),\n",
       " 22: (65, 2, 20),\n",
       " 23: (68, 3, 20),\n",
       " 24: (70, 2, 22),\n",
       " 25: (73, 2, 23),\n",
       " 26: (77, 6, 20),\n",
       " 27: (78, 1, 26),\n",
       " 28: (82, 2, 26),\n",
       " 29: (85, 3, 26),\n",
       " 30: (90, 10, 20),\n",
       " 31: (91, 1, 30),\n",
       " 32: (95, 2, 30),\n",
       " 33: (98, 3, 30),\n",
       " 34: (100, 2, 32),\n",
       " 35: (103, 2, 33),\n",
       " 36: (107, 6, 30),\n",
       " 37: (108, 1, 36),\n",
       " 38: (112, 2, 36),\n",
       " 39: (115, 3, 36),\n",
       " 40: (120, 10, 30),\n",
       " 41: (121, 1, 40),\n",
       " 42: (125, 2, 40),\n",
       " 43: (128, 3, 40),\n",
       " 44: (130, 2, 42),\n",
       " 45: (133, 2, 43),\n",
       " 46: (137, 6, 40),\n",
       " 47: (138, 1, 46),\n",
       " 48: (142, 2, 46),\n",
       " 49: (145, 3, 46),\n",
       " 50: (150, 10, 40),\n",
       " 51: (151, 1, 50),\n",
       " 52: (155, 2, 50),\n",
       " 53: (158, 3, 50),\n",
       " 54: (160, 2, 52),\n",
       " 55: (163, 2, 53),\n",
       " 56: (167, 6, 50),\n",
       " 57: (168, 1, 56),\n",
       " 58: (172, 2, 56),\n",
       " 59: (175, 3, 56),\n",
       " 60: (180, 10, 50),\n",
       " 61: (181, 1, 60),\n",
       " 62: (185, 2, 60),\n",
       " 63: (188, 3, 60),\n",
       " 64: (190, 2, 62),\n",
       " 65: (193, 2, 63),\n",
       " 66: (197, 6, 60),\n",
       " 67: (198, 1, 66),\n",
       " 68: (202, 2, 66),\n",
       " 69: (205, 3, 66),\n",
       " 70: (210, 10, 60),\n",
       " 71: (211, 1, 70),\n",
       " 72: (215, 2, 70),\n",
       " 73: (218, 3, 70),\n",
       " 74: (220, 2, 72),\n",
       " 75: (223, 2, 73),\n",
       " 76: (227, 6, 70),\n",
       " 77: (228, 1, 76),\n",
       " 78: (232, 2, 76),\n",
       " 79: (235, 3, 76),\n",
       " 80: (240, 10, 70),\n",
       " 81: (241, 1, 80),\n",
       " 82: (245, 2, 80),\n",
       " 83: (248, 3, 80),\n",
       " 84: (250, 2, 82),\n",
       " 85: (253, 2, 83),\n",
       " 86: (257, 6, 80),\n",
       " 87: (258, 1, 86),\n",
       " 88: (262, 2, 86),\n",
       " 89: (265, 3, 86),\n",
       " 90: (270, 10, 80),\n",
       " 91: (271, 1, 90),\n",
       " 92: (275, 2, 90),\n",
       " 93: (278, 3, 90),\n",
       " 94: (280, 2, 92),\n",
       " 95: (283, 2, 93),\n",
       " 96: (287, 6, 90),\n",
       " 97: (288, 1, 96),\n",
       " 98: (292, 2, 96),\n",
       " 99: (295, 3, 96),\n",
       " 100: (300, 10, 90),\n",
       " 101: (301, 1, 100),\n",
       " 102: (305, 2, 100),\n",
       " 103: (308, 3, 100),\n",
       " 104: (310, 2, 102),\n",
       " 105: (313, 2, 103),\n",
       " 106: (317, 6, 100),\n",
       " 107: (318, 1, 106),\n",
       " 108: (322, 2, 106),\n",
       " 109: (325, 3, 106),\n",
       " 110: (330, 10, 100),\n",
       " 111: (331, 1, 110),\n",
       " 112: (335, 2, 110),\n",
       " 113: (338, 3, 110),\n",
       " 114: (340, 2, 112),\n",
       " 115: (343, 2, 113),\n",
       " 116: (347, 6, 110),\n",
       " 117: (348, 1, 116),\n",
       " 118: (352, 2, 116),\n",
       " 119: (355, 3, 116),\n",
       " 120: (360, 10, 110),\n",
       " 121: (361, 1, 120),\n",
       " 122: (365, 2, 120),\n",
       " 123: (368, 3, 120),\n",
       " 124: (370, 2, 122),\n",
       " 125: (373, 2, 123),\n",
       " 126: (377, 6, 120),\n",
       " 127: (378, 1, 126),\n",
       " 128: (382, 2, 126),\n",
       " 129: (385, 3, 126),\n",
       " 130: (390, 10, 120),\n",
       " 131: (391, 1, 130),\n",
       " 132: (395, 2, 130),\n",
       " 133: (398, 3, 130),\n",
       " 134: (400, 2, 132),\n",
       " 135: (403, 2, 133),\n",
       " 136: (407, 6, 130),\n",
       " 137: (408, 1, 136),\n",
       " 138: (412, 2, 136),\n",
       " 139: (415, 3, 136),\n",
       " 140: (420, 10, 130),\n",
       " 141: (421, 1, 140),\n",
       " 142: (425, 2, 140),\n",
       " 143: (428, 3, 140),\n",
       " 144: (430, 2, 142),\n",
       " 145: (433, 2, 143),\n",
       " 146: (437, 6, 140),\n",
       " 147: (438, 1, 146),\n",
       " 148: (442, 2, 146),\n",
       " 149: (445, 3, 146),\n",
       " 150: (450, 10, 140),\n",
       " 151: (451, 1, 150),\n",
       " 152: (455, 2, 150),\n",
       " 153: (458, 3, 150),\n",
       " 154: (460, 2, 152),\n",
       " 155: (463, 2, 153),\n",
       " 156: (467, 6, 150),\n",
       " 157: (468, 1, 156),\n",
       " 158: (472, 2, 156),\n",
       " 159: (475, 3, 156),\n",
       " 160: (480, 10, 150),\n",
       " 161: (481, 1, 160),\n",
       " 162: (485, 2, 160),\n",
       " 163: (488, 3, 160),\n",
       " 164: (490, 2, 162),\n",
       " 165: (493, 2, 163),\n",
       " 166: (497, 6, 160),\n",
       " 167: (498, 1, 166),\n",
       " 168: (502, 2, 166),\n",
       " 169: (505, 3, 166),\n",
       " 170: (510, 10, 160),\n",
       " 171: (511, 1, 170),\n",
       " 172: (515, 2, 170),\n",
       " 173: (518, 3, 170),\n",
       " 174: (520, 2, 172),\n",
       " 175: (523, 2, 173),\n",
       " 176: (527, 6, 170),\n",
       " 177: (528, 1, 176),\n",
       " 178: (532, 2, 176),\n",
       " 179: (535, 3, 176),\n",
       " 180: (540, 10, 170),\n",
       " 181: (541, 1, 180),\n",
       " 182: (545, 2, 180),\n",
       " 183: (548, 3, 180),\n",
       " 184: (550, 2, 182),\n",
       " 185: (553, 2, 183),\n",
       " 186: (557, 6, 180),\n",
       " 187: (558, 1, 186),\n",
       " 188: (562, 2, 186),\n",
       " 189: (565, 3, 186),\n",
       " 190: (570, 10, 180),\n",
       " 191: (571, 1, 190),\n",
       " 192: (575, 2, 190),\n",
       " 193: (578, 3, 190),\n",
       " 194: (580, 2, 192),\n",
       " 195: (583, 2, 193),\n",
       " 196: (587, 6, 190),\n",
       " 197: (588, 1, 196),\n",
       " 198: (592, 2, 196),\n",
       " 199: (595, 3, 196),\n",
       " 200: (600, 10, 190),\n",
       " 201: (601, 1, 200),\n",
       " 202: (605, 2, 200),\n",
       " 203: (608, 3, 200),\n",
       " 204: (610, 2, 202),\n",
       " 205: (613, 2, 203),\n",
       " 206: (617, 6, 200),\n",
       " 207: (618, 1, 206),\n",
       " 208: (622, 2, 206),\n",
       " 209: (625, 3, 206),\n",
       " 210: (630, 10, 200),\n",
       " 211: (631, 1, 210),\n",
       " 212: (635, 2, 210),\n",
       " 213: (638, 3, 210),\n",
       " 214: (640, 2, 212),\n",
       " 215: (643, 2, 213),\n",
       " 216: (647, 6, 210),\n",
       " 217: (648, 1, 216),\n",
       " 218: (652, 2, 216),\n",
       " 219: (655, 3, 216),\n",
       " 220: (660, 10, 210),\n",
       " 221: (661, 1, 220),\n",
       " 222: (665, 2, 220),\n",
       " 223: (668, 3, 220),\n",
       " 224: (670, 2, 222),\n",
       " 225: (673, 2, 223),\n",
       " 226: (677, 6, 220),\n",
       " 227: (678, 1, 226),\n",
       " 228: (682, 2, 226),\n",
       " 229: (685, 3, 226),\n",
       " 230: (690, 10, 220),\n",
       " 231: (691, 1, 230),\n",
       " 232: (695, 2, 230),\n",
       " 233: (698, 3, 230),\n",
       " 234: (700, 2, 232),\n",
       " 235: (703, 2, 233),\n",
       " 236: (707, 6, 230),\n",
       " 237: (708, 1, 236),\n",
       " 238: (712, 2, 236),\n",
       " 239: (715, 3, 236),\n",
       " 240: (720, 10, 230),\n",
       " 241: (721, 1, 240),\n",
       " 242: (725, 2, 240),\n",
       " 243: (728, 3, 240),\n",
       " 244: (730, 2, 242),\n",
       " 245: (733, 2, 243),\n",
       " 246: (737, 6, 240),\n",
       " 247: (738, 1, 246),\n",
       " 248: (742, 2, 246),\n",
       " 249: (745, 3, 246),\n",
       " 250: (750, 10, 240),\n",
       " 251: (751, 1, 250),\n",
       " 252: (755, 2, 250),\n",
       " 253: (758, 3, 250),\n",
       " 254: (760, 2, 252),\n",
       " 255: (763, 2, 253),\n",
       " 256: (767, 6, 250),\n",
       " 257: (768, 1, 256),\n",
       " 258: (772, 2, 256),\n",
       " 259: (775, 3, 256),\n",
       " 260: (780, 10, 250),\n",
       " 261: (781, 1, 260),\n",
       " 262: (785, 2, 260),\n",
       " 263: (788, 3, 260),\n",
       " 264: (790, 2, 262),\n",
       " 265: (793, 2, 263),\n",
       " 266: (797, 6, 260),\n",
       " 267: (798, 1, 266),\n",
       " 268: (802, 2, 266),\n",
       " 269: (805, 3, 266),\n",
       " 270: (810, 10, 260),\n",
       " 271: (811, 1, 270),\n",
       " 272: (815, 2, 270),\n",
       " 273: (818, 3, 270),\n",
       " 274: (820, 2, 272),\n",
       " 275: (823, 2, 273),\n",
       " 276: (827, 6, 270),\n",
       " 277: (828, 1, 276),\n",
       " 278: (832, 2, 276),\n",
       " 279: (835, 3, 276),\n",
       " 280: (840, 10, 270),\n",
       " 281: (841, 1, 280),\n",
       " 282: (845, 2, 280),\n",
       " 283: (848, 3, 280),\n",
       " 284: (850, 2, 282),\n",
       " 285: (853, 2, 283),\n",
       " 286: (857, 6, 280),\n",
       " 287: (858, 1, 286),\n",
       " 288: (862, 2, 286)}"
      ]
     },
     "execution_count": 10,
     "metadata": {},
     "output_type": "execute_result"
    }
   ],
   "source": [
    "solution={}\n",
    "r3(288)\n",
    "solution"
   ]
  },
  {
   "cell_type": "code",
   "execution_count": 19,
   "metadata": {},
   "outputs": [],
   "source": [
    "#引入装饰器\n",
    "from functools import lru_cache\n",
    "@lru_cache(maxsize=2**10)\n",
    "def r4(n):#返回最大价格时切割方法和，切割时一段长度，另一段长度就是n-i\n",
    "    price_max,long_split=max([(price[n],0)]+[(r4(i)+r4(n-i),i) for i in range(1,n)], key=lambda x:x[0])\n",
    "    solution[n]=(long_split,n-long_split)\n",
    "    return price_max\n"
   ]
  },
  {
   "cell_type": "code",
   "execution_count": 53,
   "metadata": {},
   "outputs": [
    {
     "name": "stdout",
     "output_type": "stream",
     "text": [
      "900\n"
     ]
    }
   ],
   "source": [
    "#加上解释器之后明显变快，但是solution就不全了\n",
    "solution={}\n",
    "print(r4(300))"
   ]
  },
  {
   "cell_type": "code",
   "execution_count": 45,
   "metadata": {},
   "outputs": [],
   "source": [
    "#解释装饰器\n",
    "import time \n",
    "def func_1(n):\n",
    "    for i in range(n):\n",
    "        print(i)\n",
    "\n",
    "def func_slow(n):\n",
    "    #start=time.time()\n",
    "    for i in range(n):\n",
    "        time.sleep(0.2)\n",
    "        print(i)\n",
    "    #print(\"used time:{}\".format(time.time()-start))\n",
    "\n"
   ]
  },
  {
   "cell_type": "code",
   "execution_count": 46,
   "metadata": {},
   "outputs": [
    {
     "name": "stdout",
     "output_type": "stream",
     "text": [
      "0\n"
     ]
    }
   ],
   "source": [
    "func_slow(1)"
   ]
  },
  {
   "cell_type": "code",
   "execution_count": 47,
   "metadata": {},
   "outputs": [],
   "source": [
    "#为了解决每个函数都要计时，利用python面向函数的特点，把每个函数传进去，       面向什么表示什么可以被赋值，传入，作为传出\n",
    "def call_time(func1,arg):#脚手架程序\n",
    "    start=time.time()\n",
    "    func1(arg)\n",
    "    print(\"used time:{}\".format(time.time()-start))"
   ]
  },
  {
   "cell_type": "code",
   "execution_count": 48,
   "metadata": {},
   "outputs": [
    {
     "name": "stdout",
     "output_type": "stream",
     "text": [
      "0\n",
      "used time:0.20067644119262695\n",
      "0\n",
      "used time:0.0\n"
     ]
    }
   ],
   "source": [
    "call_time(func_slow,1)\n",
    "call_time(func_1,1)"
   ]
  },
  {
   "cell_type": "code",
   "execution_count": 49,
   "metadata": {},
   "outputs": [],
   "source": [
    "#再次优化\n",
    "def get_call_time(func):\n",
    "    def _inner(arg):\n",
    "        start=time.time()\n",
    "        result=func(arg)\n",
    "        print(\"used time:{}\".format(time.time()-start))\n",
    "        return result\n",
    "    return _inner\n",
    "        \n",
    "        \n",
    "        "
   ]
  },
  {
   "cell_type": "code",
   "execution_count": 50,
   "metadata": {},
   "outputs": [
    {
     "name": "stdout",
     "output_type": "stream",
     "text": [
      "_inner\n",
      "0\n",
      "1\n",
      "used time:0.0009968280792236328\n"
     ]
    }
   ],
   "source": [
    "func_1_could_get_called_time=get_call_time(func_1)\n",
    "print(func_1_could_get_called_time.__name__)\n",
    "func_1_could_get_called_time(2)"
   ]
  },
  {
   "cell_type": "code",
   "execution_count": 41,
   "metadata": {},
   "outputs": [],
   "source": [
    "#func_1=get_call_time(func_1)#用新函数覆盖旧函数，每次写太麻烦了所以出现 @关键字\n",
    "\n",
    "@get_call_time #就相当于func_2=get_call_time(func_2)，以后调用func_2时是调用解释器后的函数\n",
    "def func_2(n):\n",
    "    for i in range(n):\n",
    "        time.sleep(0.2)\n"
   ]
  },
  {
   "cell_type": "code",
   "execution_count": 42,
   "metadata": {},
   "outputs": [
    {
     "name": "stdout",
     "output_type": "stream",
     "text": [
      "used time:2.004607677459717\n"
     ]
    }
   ],
   "source": [
    "func_2(10)"
   ]
  },
  {
   "cell_type": "code",
   "execution_count": 100,
   "metadata": {},
   "outputs": [],
   "source": [
    "#依然存在问题，函数的解释说明部分\n",
    "#访问次数\n",
    "from functools import wraps\n",
    "funct_times=defaultdict(int)\n",
    "def call_func(func):\n",
    "    #@wraps(func)\n",
    "    def _inner(arg):\n",
    "        '''\n",
    "        我是_inner\n",
    "        '''\n",
    "        result=func(arg)\n",
    "        funct_times[func.__name__]+=1\n",
    "        print(\"call times:{}\".format(funct_times[func.__name__]))   \n",
    "        return result\n",
    "\n",
    "    return _inner\n"
   ]
  },
  {
   "cell_type": "code",
   "execution_count": 101,
   "metadata": {},
   "outputs": [],
   "source": [
    "@call_func\n",
    "def func_call_time(n):\n",
    "    '''\n",
    "    我是func_call_time\n",
    "    '''\n",
    "    for i in range(n):\n",
    "        time.sleep(0.2)\n"
   ]
  },
  {
   "cell_type": "code",
   "execution_count": 102,
   "metadata": {},
   "outputs": [
    {
     "name": "stdout",
     "output_type": "stream",
     "text": [
      "call times:1\n"
     ]
    }
   ],
   "source": [
    "func_call_time(1)"
   ]
  },
  {
   "cell_type": "code",
   "execution_count": 103,
   "metadata": {},
   "outputs": [
    {
     "name": "stdout",
     "output_type": "stream",
     "text": [
      "Help on function _inner in module __main__:\n",
      "\n",
      "_inner(arg)\n",
      "    我是_inner\n",
      "\n"
     ]
    }
   ],
   "source": [
    "help(func_call_time)#为了让help获得真实函数说明，使用装饰器装饰装饰器 from functools import wrap 在_inner前面加上@wrap\n"
   ]
  },
  {
   "cell_type": "code",
   "execution_count": 114,
   "metadata": {},
   "outputs": [],
   "source": [
    "#实现lru_catch\n",
    "from functools import wraps\n",
    "def memo(func):\n",
    "    catch={}\n",
    "    @wraps(func)\n",
    "    def wrap(n):#*args,**kwargs \n",
    "        if n in catch:return catch[n]\n",
    "        catch[n]=func(n)\n",
    "        return catch[n]\n",
    "    return wrap \n"
   ]
  },
  {
   "cell_type": "code",
   "execution_count": 123,
   "metadata": {},
   "outputs": [],
   "source": [
    "global solution\n",
    "@memo\n",
    "def r5(n):#返回最大价格时切割方法和，切割时一段长度，另一段长度就是n-i\n",
    "    global solution\n",
    "    price_max,long_split=max([(price[n],0)]+[(r5(i)+r5(n-i),i) for i in range(1,n)], key=lambda x:x[0])\n",
    "    solution[n]=(long_split,n-long_split)\n",
    "    return price_max"
   ]
  },
  {
   "cell_type": "code",
   "execution_count": 124,
   "metadata": {},
   "outputs": [
    {
     "data": {
      "text/plain": [
       "{1: (0, 1),\n",
       " 2: (0, 2),\n",
       " 3: (0, 3),\n",
       " 4: (2, 2),\n",
       " 5: (2, 3),\n",
       " 6: (0, 6),\n",
       " 7: (1, 6),\n",
       " 8: (2, 6),\n",
       " 9: (3, 6),\n",
       " 10: (0, 10),\n",
       " 11: (1, 10),\n",
       " 12: (2, 10),\n",
       " 13: (3, 10),\n",
       " 14: (2, 12),\n",
       " 15: (2, 13),\n",
       " 16: (6, 10),\n",
       " 17: (1, 16),\n",
       " 18: (2, 16),\n",
       " 19: (3, 16),\n",
       " 20: (10, 10),\n",
       " 21: (1, 20),\n",
       " 22: (2, 20),\n",
       " 23: (3, 20),\n",
       " 24: (2, 22),\n",
       " 25: (2, 23),\n",
       " 26: (6, 20),\n",
       " 27: (1, 26),\n",
       " 28: (2, 26),\n",
       " 29: (3, 26),\n",
       " 30: (10, 20),\n",
       " 31: (1, 30),\n",
       " 32: (2, 30),\n",
       " 33: (3, 30),\n",
       " 34: (2, 32),\n",
       " 35: (2, 33),\n",
       " 36: (6, 30),\n",
       " 37: (1, 36),\n",
       " 38: (2, 36),\n",
       " 39: (3, 36),\n",
       " 40: (10, 30),\n",
       " 41: (1, 40),\n",
       " 42: (2, 40),\n",
       " 43: (3, 40),\n",
       " 44: (2, 42),\n",
       " 45: (2, 43),\n",
       " 46: (6, 40),\n",
       " 47: (1, 46),\n",
       " 48: (2, 46),\n",
       " 49: (3, 46),\n",
       " 50: (10, 40),\n",
       " 51: (1, 50),\n",
       " 52: (2, 50),\n",
       " 53: (3, 50),\n",
       " 54: (2, 52),\n",
       " 55: (2, 53),\n",
       " 56: (6, 50),\n",
       " 57: (1, 56),\n",
       " 58: (2, 56),\n",
       " 59: (3, 56),\n",
       " 60: (10, 50),\n",
       " 61: (1, 60),\n",
       " 62: (2, 60),\n",
       " 63: (3, 60),\n",
       " 64: (2, 62),\n",
       " 65: (2, 63),\n",
       " 66: (6, 60),\n",
       " 67: (1, 66),\n",
       " 68: (2, 66),\n",
       " 69: (3, 66),\n",
       " 70: (10, 60),\n",
       " 71: (1, 70),\n",
       " 72: (2, 70),\n",
       " 73: (3, 70),\n",
       " 74: (2, 72),\n",
       " 75: (2, 73),\n",
       " 76: (6, 70),\n",
       " 77: (1, 76),\n",
       " 78: (2, 76),\n",
       " 79: (3, 76),\n",
       " 80: (10, 70),\n",
       " 81: (1, 80),\n",
       " 82: (2, 80),\n",
       " 83: (3, 80),\n",
       " 84: (2, 82),\n",
       " 85: (2, 83),\n",
       " 86: (6, 80),\n",
       " 87: (1, 86),\n",
       " 88: (2, 86),\n",
       " 89: (3, 86),\n",
       " 90: (10, 80),\n",
       " 91: (1, 90),\n",
       " 92: (2, 90),\n",
       " 93: (3, 90),\n",
       " 94: (2, 92),\n",
       " 95: (2, 93),\n",
       " 96: (6, 90),\n",
       " 97: (1, 96),\n",
       " 98: (2, 96),\n",
       " 99: (3, 96),\n",
       " 100: (10, 90),\n",
       " 101: (1, 100),\n",
       " 102: (2, 100),\n",
       " 103: (3, 100),\n",
       " 104: (2, 102),\n",
       " 105: (2, 103),\n",
       " 106: (6, 100),\n",
       " 107: (1, 106),\n",
       " 108: (2, 106),\n",
       " 109: (3, 106),\n",
       " 110: (10, 100),\n",
       " 111: (1, 110),\n",
       " 112: (2, 110),\n",
       " 113: (3, 110),\n",
       " 114: (2, 112),\n",
       " 115: (2, 113),\n",
       " 116: (6, 110),\n",
       " 117: (1, 116),\n",
       " 118: (2, 116),\n",
       " 119: (3, 116),\n",
       " 120: (10, 110),\n",
       " 121: (1, 120),\n",
       " 122: (2, 120),\n",
       " 123: (3, 120),\n",
       " 124: (2, 122),\n",
       " 125: (2, 123),\n",
       " 126: (6, 120),\n",
       " 127: (1, 126),\n",
       " 128: (2, 126),\n",
       " 129: (3, 126),\n",
       " 130: (10, 120),\n",
       " 131: (1, 130),\n",
       " 132: (2, 130),\n",
       " 133: (3, 130),\n",
       " 134: (2, 132),\n",
       " 135: (2, 133),\n",
       " 136: (6, 130),\n",
       " 137: (1, 136),\n",
       " 138: (2, 136),\n",
       " 139: (3, 136),\n",
       " 140: (10, 130),\n",
       " 141: (1, 140),\n",
       " 142: (2, 140),\n",
       " 143: (3, 140),\n",
       " 144: (2, 142),\n",
       " 145: (2, 143),\n",
       " 146: (6, 140),\n",
       " 147: (1, 146),\n",
       " 148: (2, 146),\n",
       " 149: (3, 146),\n",
       " 150: (10, 140),\n",
       " 151: (1, 150),\n",
       " 152: (2, 150),\n",
       " 153: (3, 150),\n",
       " 154: (2, 152),\n",
       " 155: (2, 153),\n",
       " 156: (6, 150),\n",
       " 157: (1, 156),\n",
       " 158: (2, 156),\n",
       " 159: (3, 156),\n",
       " 160: (10, 150),\n",
       " 161: (1, 160),\n",
       " 162: (2, 160),\n",
       " 163: (3, 160),\n",
       " 164: (2, 162),\n",
       " 165: (2, 163),\n",
       " 166: (6, 160),\n",
       " 167: (1, 166),\n",
       " 168: (2, 166),\n",
       " 169: (3, 166),\n",
       " 170: (10, 160),\n",
       " 171: (1, 170),\n",
       " 172: (2, 170),\n",
       " 173: (3, 170),\n",
       " 174: (2, 172),\n",
       " 175: (2, 173),\n",
       " 176: (6, 170),\n",
       " 177: (1, 176),\n",
       " 178: (2, 176),\n",
       " 179: (3, 176),\n",
       " 180: (10, 170),\n",
       " 181: (1, 180),\n",
       " 182: (2, 180),\n",
       " 183: (3, 180),\n",
       " 184: (2, 182),\n",
       " 185: (2, 183),\n",
       " 186: (6, 180),\n",
       " 187: (1, 186),\n",
       " 188: (2, 186),\n",
       " 189: (3, 186),\n",
       " 190: (10, 180),\n",
       " 191: (1, 190),\n",
       " 192: (2, 190),\n",
       " 193: (3, 190),\n",
       " 194: (2, 192),\n",
       " 195: (2, 193),\n",
       " 196: (6, 190),\n",
       " 197: (1, 196),\n",
       " 198: (2, 196)}"
      ]
     },
     "execution_count": 124,
     "metadata": {},
     "output_type": "execute_result"
    }
   ],
   "source": [
    "\n",
    "r5(198)\n",
    "solution"
   ]
  },
  {
   "cell_type": "code",
   "execution_count": 152,
   "metadata": {},
   "outputs": [],
   "source": [
    "#解析solution\n",
    "\n",
    "def analy_solution(n):\n",
    "    #return [solution[n][1]] if solution[n][0]==0 else [solution[n][0]]+analy_solution(solution[n][1])\n",
    "    return [solution[n][1]] if solution[n][0]==0 else analy_solution(solution[n][0])+analy_solution(solution[n][1])\n",
    "    "
   ]
  },
  {
   "cell_type": "code",
   "execution_count": 153,
   "metadata": {},
   "outputs": [
    {
     "data": {
      "text/plain": [
       "[3, 6, 10, 10, 10, 10, 10, 10, 10, 10, 10]"
      ]
     },
     "execution_count": 153,
     "metadata": {},
     "output_type": "execute_result"
    }
   ],
   "source": [
    "analy_solution(99)"
   ]
  },
  {
   "cell_type": "code",
   "execution_count": null,
   "metadata": {},
   "outputs": [],
   "source": [
    "#围棋就没法存储了，太多了"
   ]
  },
  {
   "cell_type": "markdown",
   "metadata": {},
   "source": [
    "# Edit DIstance"
   ]
  },
  {
   "cell_type": "code",
   "execution_count": 6,
   "metadata": {},
   "outputs": [],
   "source": [
    "\n",
    "\n",
    "global solution_get_dis\n",
    "solution_get_dis={}\n",
    "\n",
    "def get_dis(str1,str2):\n",
    "    if str1==\"\":return len(str2) \n",
    "    if str2==\"\":return len(str1) \n",
    "    tail1=str1[-1]\n",
    "    tail2=str2[-1]\n",
    "    result,fangf=min([\n",
    "        (get_dis(str1,str2[:-1])+1,\"del2\"),\n",
    "        (get_dis(str1[:-1],str2)+1,\"del1\"),\n",
    "        (get_dis(str1[:-1],str2[:-1])+ (0 if tail1==tail2 else 2),\"{} sub {}\".format(tail1,tail2) if tail1!=tail2 else \"del together\")\n",
    "    ],key=lambda x:x[0])\n",
    "    global solution_get_dis\n",
    "    solution_get_dis[str1+' '+str2]=fangf\n",
    "    #print(fangf)\n",
    "    #print(str1,str2)\n",
    "    return result"
   ]
  },
  {
   "cell_type": "code",
   "execution_count": 16,
   "metadata": {},
   "outputs": [
    {
     "data": {
      "text/plain": [
       "3"
      ]
     },
     "execution_count": 16,
     "metadata": {},
     "output_type": "execute_result"
    }
   ],
   "source": [
    "str1,str2='w','wdrt'\n",
    "get_dis('w','wdrt')"
   ]
  },
  {
   "cell_type": "code",
   "execution_count": 17,
   "metadata": {},
   "outputs": [
    {
     "data": {
      "text/plain": [
       "{'w w': 'del together',\n",
       " 'we w': 'del1',\n",
       " 'wer w': 'del1',\n",
       " 'wert w': 'del1',\n",
       " 'wertt w': 'del1',\n",
       " 'w wd': 'del2',\n",
       " 'we wd': 'del2',\n",
       " 'wer wd': 'del2',\n",
       " 'wert wd': 'del2',\n",
       " 'wertt wd': 'del2',\n",
       " 'w wdr': 'del2',\n",
       " 'we wdr': 'del2',\n",
       " 'wer wdr': 'del together',\n",
       " 'wert wdr': 'del1',\n",
       " 'wertt wdr': 'del1',\n",
       " 'w wdrt': 'del2',\n",
       " 'we wdrt': 'del2',\n",
       " 'wer wdrt': 'del2',\n",
       " 'wert wdrt': 'del together',\n",
       " 'wertt wdrt': 'del1',\n",
       " '  w': 'del2',\n",
       " '  wd': 'del2',\n",
       " '  wdr': 'del2',\n",
       " '  wdrt': 'del2'}"
      ]
     },
     "execution_count": 17,
     "metadata": {},
     "output_type": "execute_result"
    }
   ],
   "source": [
    "solution_get_dis"
   ]
  },
  {
   "cell_type": "code",
   "execution_count": 20,
   "metadata": {},
   "outputs": [],
   "source": [
    "def parse_solution_get_dis(solution_get_dis,str1,str2):\n",
    "    strall=str1+' '+str2\n",
    "    if strall not in solution_get_dis:return \"down\"\n",
    "    if solution_get_dis[strall]=='del1':return strall+'删除字符串1末尾得到'+str1[:-1]+' '+str2+'\\n'+parse_solution_get_dis(solution_get_dis,str1[:-1],str2)\n",
    "    if solution_get_dis[strall]=='del2':return strall+'删除字符串2末尾得到'+str1+' '+str2[:-1]+'\\n'+parse_solution_get_dis(solution_get_dis,str1,str2[:-1])\n",
    "    if solution_get_dis[strall]=='del together':return strall+'删除两个字符串末尾得到'+str1[:-1]+' '+str2[:-1]+'\\n'+parse_solution_get_dis(solution_get_dis,str1[:-1],str2[:-1])\n",
    "\n",
    "    \n",
    "    \n",
    "    \n",
    "    \n",
    "    "
   ]
  },
  {
   "cell_type": "code",
   "execution_count": 22,
   "metadata": {},
   "outputs": [
    {
     "name": "stdout",
     "output_type": "stream",
     "text": [
      "w wdrt删除字符串2末尾得到w wdr\n",
      "w wdr删除字符串2末尾得到w wd\n",
      "w wd删除字符串2末尾得到w w\n",
      "w w删除两个字符串末尾得到 \n",
      "down\n"
     ]
    }
   ],
   "source": [
    "print(parse_solution_get_dis(solution_get_dis,str1,str2))"
   ]
  },
  {
   "cell_type": "markdown",
   "metadata": {},
   "source": [
    "# 以下是老师的程序"
   ]
  },
  {
   "cell_type": "code",
   "execution_count": null,
   "metadata": {},
   "outputs": [],
   "source": []
  },
  {
   "cell_type": "code",
   "execution_count": 67,
   "metadata": {},
   "outputs": [],
   "source": [
    "from collections import defaultdict\n",
    "\n",
    "\n",
    "\n",
    "\n",
    "\n",
    "\n",
    "\n",
    "\n",
    "\n",
    "\n",
    "original_price = [1, 5, 8, 9, 10, 17, 17, 20, 24, 30]\n",
    "price = defaultdict(int)\n",
    "for i, p in enumerate(original_price):\n",
    "    price[i+1] = p\n",
    "assert price[1] == 1"
   ]
  },
  {
   "cell_type": "code",
   "execution_count": null,
   "metadata": {},
   "outputs": [],
   "source": []
  },
  {
   "cell_type": "code",
   "execution_count": 68,
   "metadata": {},
   "outputs": [
    {
     "data": {
      "text/plain": [
       "0"
      ]
     },
     "execution_count": 68,
     "metadata": {},
     "output_type": "execute_result"
    }
   ],
   "source": [
    "price[132]"
   ]
  },
  {
   "cell_type": "markdown",
   "metadata": {},
   "source": [
    "![](Picture1.png)"
   ]
  },
  {
   "cell_type": "code",
   "execution_count": 19,
   "metadata": {},
   "outputs": [],
   "source": [
    "solution = {}\n",
    "## for a given length N, we set the corrsponding split parts\n",
    "## solution = \n",
    "# {\n",
    "#     4: (2, 2)\n",
    "# }"
   ]
  },
  {
   "cell_type": "code",
   "execution_count": 57,
   "metadata": {},
   "outputs": [],
   "source": [
    "def func_1(n):\n",
    "    for i in range(n):\n",
    "        print(n)"
   ]
  },
  {
   "cell_type": "code",
   "execution_count": 53,
   "metadata": {},
   "outputs": [],
   "source": [
    "def call_time(func_1, arg): # 脚手架程序 \n",
    "    start = time.time()\n",
    "    func_1(arg)\n",
    "    print('used time: {}'.format(time.time() - start))"
   ]
  },
  {
   "cell_type": "code",
   "execution_count": 166,
   "metadata": {},
   "outputs": [],
   "source": [
    "from functools import wraps"
   ]
  },
  {
   "cell_type": "code",
   "execution_count": 167,
   "metadata": {},
   "outputs": [],
   "source": [
    "function_called_time = defaultdict(int)\n",
    "\n",
    "def get_call_time(func):\n",
    "    @wraps(func)\n",
    "    def _inner(arg): ## *args, **kwargs\n",
    "        \"\"\"It's inner function\"\"\"\n",
    "        global function_called_time\n",
    "        function_called_time[func.__name__] += 1\n",
    "        result = func(arg)\n",
    "        print('function called time is : {}'.format(function_called_time[func.__name__]))\n",
    "        return result\n",
    "    return _inner"
   ]
  },
  {
   "cell_type": "code",
   "execution_count": 90,
   "metadata": {},
   "outputs": [
    {
     "name": "stdout",
     "output_type": "stream",
     "text": [
      "10\n",
      "10\n",
      "10\n",
      "10\n",
      "10\n",
      "10\n",
      "10\n",
      "10\n",
      "10\n",
      "10\n",
      "used time: 0.0005786418914794922\n",
      "used time: 0.0006239414215087891\n"
     ]
    }
   ],
   "source": [
    "call_time(func_1, 10)"
   ]
  },
  {
   "cell_type": "code",
   "execution_count": 69,
   "metadata": {},
   "outputs": [],
   "source": [
    "func_1 = get_call_time(func_1) ## => @ ( decorator ) "
   ]
  },
  {
   "cell_type": "code",
   "execution_count": 153,
   "metadata": {},
   "outputs": [
    {
     "name": "stdout",
     "output_type": "stream",
     "text": [
      "10\n",
      "10\n",
      "10\n",
      "10\n",
      "10\n",
      "10\n",
      "10\n",
      "10\n",
      "10\n",
      "10\n",
      "function called time is : 1\n"
     ]
    }
   ],
   "source": [
    "func_1(10) # we get the new func 1 😀"
   ]
  },
  {
   "cell_type": "code",
   "execution_count": 170,
   "metadata": {},
   "outputs": [],
   "source": [
    "@get_call_time\n",
    "def func_1(n):\n",
    "    \"\"\"\n",
    "    @param n: is the number of customers\n",
    "    @return int: the customers value point\n",
    "    \"\"\"\n",
    "    for i in range(n):\n",
    "        print(n)\n",
    "    return 0"
   ]
  },
  {
   "cell_type": "code",
   "execution_count": 171,
   "metadata": {},
   "outputs": [
    {
     "name": "stdout",
     "output_type": "stream",
     "text": [
      "Help on function func_1 in module __main__:\n",
      "\n",
      "func_1(n)\n",
      "    @param n: is the number of customers\n",
      "    @return int: the customers value point\n",
      "\n"
     ]
    }
   ],
   "source": [
    "help(func_1)"
   ]
  },
  {
   "cell_type": "code",
   "execution_count": 136,
   "metadata": {},
   "outputs": [
    {
     "name": "stdout",
     "output_type": "stream",
     "text": [
      "10\n",
      "10\n",
      "10\n",
      "10\n",
      "10\n",
      "10\n",
      "10\n",
      "10\n",
      "10\n",
      "10\n",
      "function called time is : 45\n"
     ]
    }
   ],
   "source": [
    "func_1(10)"
   ]
  },
  {
   "cell_type": "code",
   "execution_count": 145,
   "metadata": {},
   "outputs": [
    {
     "name": "stdout",
     "output_type": "stream",
     "text": [
      "1\n",
      "function called time is : 4\n",
      "used time: 0.20224428176879883\n"
     ]
    }
   ],
   "source": [
    "call_time(func_slow, 1)"
   ]
  },
  {
   "cell_type": "code",
   "execution_count": 144,
   "metadata": {},
   "outputs": [],
   "source": [
    "@get_call_time\n",
    "def func_slow(n):\n",
    "    for i in range(n):\n",
    "        time.sleep(0.2)\n",
    "        print(n)"
   ]
  },
  {
   "cell_type": "code",
   "execution_count": 149,
   "metadata": {},
   "outputs": [
    {
     "name": "stdout",
     "output_type": "stream",
     "text": [
      "1\n",
      "function called time is : 8\n"
     ]
    }
   ],
   "source": [
    "func_slow(1)"
   ]
  },
  {
   "cell_type": "code",
   "execution_count": 35,
   "metadata": {},
   "outputs": [],
   "source": [
    "import time"
   ]
  },
  {
   "cell_type": "code",
   "execution_count": 51,
   "metadata": {},
   "outputs": [],
   "source": [
    "def func_slow(n):\n",
    "    for i in range(n):\n",
    "        time.sleep(0.2)\n",
    "        print(n)"
   ]
  },
  {
   "cell_type": "code",
   "execution_count": 45,
   "metadata": {},
   "outputs": [
    {
     "name": "stdout",
     "output_type": "stream",
     "text": [
      "5\n",
      "5\n",
      "5\n",
      "5\n",
      "5\n",
      "used time: 1.0214979648590088\n"
     ]
    }
   ],
   "source": [
    "func_slow(5)"
   ]
  },
  {
   "cell_type": "code",
   "execution_count": 172,
   "metadata": {},
   "outputs": [],
   "source": [
    "def memo(func):\n",
    "    cache = {}\n",
    "    @wraps(func)\n",
    "    def _wrap(n): ## ? *args, **kwargs\n",
    "        if n in cache: result = cache[n]\n",
    "        else:\n",
    "            result = func(n)\n",
    "            cache[n] = result\n",
    "        return result\n",
    "    return _wrap"
   ]
  },
  {
   "cell_type": "code",
   "execution_count": 173,
   "metadata": {},
   "outputs": [],
   "source": [
    "@memo\n",
    "def r(n):\n",
    "    max_price, split_point = max(\n",
    "        [(price[n], 0)] + [(r(i) + r(n-i), i) for i in range(1, n)], key=lambda x: x[0]\n",
    "    )\n",
    "    solution[n] = (split_point, n - split_point)\n",
    "    \n",
    "    return max_price"
   ]
  },
  {
   "cell_type": "code",
   "execution_count": 219,
   "metadata": {},
   "outputs": [
    {
     "data": {
      "text/plain": [
       "691"
      ]
     },
     "execution_count": 219,
     "metadata": {},
     "output_type": "execute_result"
    }
   ],
   "source": [
    "r(231)"
   ]
  },
  {
   "cell_type": "markdown",
   "metadata": {},
   "source": [
    "## Dynamic Programming\n",
    "\n",
    "不断查表的意思\n",
    "+ 分析子问题的重复性\n",
    "+ 子问题进行存储\n",
    "+ Solution 要进行解析"
   ]
  },
  {
   "cell_type": "code",
   "execution_count": 179,
   "metadata": {},
   "outputs": [
    {
     "data": {
      "text/plain": [
       "(2, 16)"
      ]
     },
     "execution_count": 179,
     "metadata": {},
     "output_type": "execute_result"
    }
   ],
   "source": [
    "solution[18]"
   ]
  },
  {
   "cell_type": "code",
   "execution_count": 180,
   "metadata": {},
   "outputs": [
    {
     "data": {
      "text/plain": [
       "(0, 2)"
      ]
     },
     "execution_count": 180,
     "metadata": {},
     "output_type": "execute_result"
    }
   ],
   "source": [
    "solution[2]"
   ]
  },
  {
   "cell_type": "code",
   "execution_count": 181,
   "metadata": {},
   "outputs": [
    {
     "data": {
      "text/plain": [
       "(6, 10)"
      ]
     },
     "execution_count": 181,
     "metadata": {},
     "output_type": "execute_result"
    }
   ],
   "source": [
    "solution[16]"
   ]
  },
  {
   "cell_type": "code",
   "execution_count": 182,
   "metadata": {},
   "outputs": [
    {
     "data": {
      "text/plain": [
       "(0, 6)"
      ]
     },
     "execution_count": 182,
     "metadata": {},
     "output_type": "execute_result"
    }
   ],
   "source": [
    "solution[6]"
   ]
  },
  {
   "cell_type": "code",
   "execution_count": 183,
   "metadata": {},
   "outputs": [
    {
     "data": {
      "text/plain": [
       "(0, 10)"
      ]
     },
     "execution_count": 183,
     "metadata": {},
     "output_type": "execute_result"
    }
   ],
   "source": [
    "solution[10]"
   ]
  },
  {
   "cell_type": "code",
   "execution_count": 227,
   "metadata": {},
   "outputs": [
    {
     "data": {
      "text/plain": [
       "{1: (0, 1),\n",
       " 2: (0, 2),\n",
       " 3: (0, 3),\n",
       " 4: (2, 2),\n",
       " 5: (2, 3),\n",
       " 6: (0, 6),\n",
       " 7: (1, 6),\n",
       " 8: (2, 6),\n",
       " 9: (3, 6),\n",
       " 10: (0, 10),\n",
       " 11: (1, 10),\n",
       " 12: (2, 10),\n",
       " 13: (3, 10),\n",
       " 14: (2, 12),\n",
       " 15: (2, 13),\n",
       " 16: (6, 10),\n",
       " 17: (1, 16),\n",
       " 18: (2, 16),\n",
       " 19: (3, 16),\n",
       " 20: (10, 10),\n",
       " 21: (1, 20),\n",
       " 22: (2, 20),\n",
       " 23: (3, 20),\n",
       " 24: (2, 22),\n",
       " 25: (2, 23),\n",
       " 26: (6, 20),\n",
       " 27: (1, 26),\n",
       " 28: (2, 26),\n",
       " 29: (3, 26),\n",
       " 30: (10, 20),\n",
       " 31: (1, 30),\n",
       " 32: (2, 30),\n",
       " 33: (3, 30),\n",
       " 34: (2, 32),\n",
       " 35: (2, 33),\n",
       " 36: (6, 30),\n",
       " 37: (1, 36),\n",
       " 38: (2, 36),\n",
       " 39: (3, 36),\n",
       " 40: (10, 30),\n",
       " 41: (1, 40),\n",
       " 42: (2, 40),\n",
       " 43: (3, 40),\n",
       " 44: (2, 42),\n",
       " 45: (2, 43),\n",
       " 46: (6, 40),\n",
       " 47: (1, 46),\n",
       " 48: (2, 46),\n",
       " 49: (3, 46),\n",
       " 50: (10, 40),\n",
       " 51: (1, 50),\n",
       " 52: (2, 50),\n",
       " 53: (3, 50),\n",
       " 54: (2, 52),\n",
       " 55: (2, 53),\n",
       " 56: (6, 50),\n",
       " 57: (1, 56),\n",
       " 58: (2, 56),\n",
       " 59: (3, 56),\n",
       " 60: (10, 50),\n",
       " 61: (1, 60),\n",
       " 62: (2, 60),\n",
       " 63: (3, 60),\n",
       " 64: (2, 62),\n",
       " 65: (2, 63),\n",
       " 66: (6, 60),\n",
       " 67: (1, 66),\n",
       " 68: (2, 66),\n",
       " 69: (3, 66),\n",
       " 70: (10, 60),\n",
       " 71: (1, 70),\n",
       " 72: (2, 70),\n",
       " 73: (3, 70),\n",
       " 74: (2, 72),\n",
       " 75: (2, 73),\n",
       " 76: (6, 70),\n",
       " 77: (1, 76),\n",
       " 78: (2, 76),\n",
       " 79: (3, 76),\n",
       " 80: (10, 70),\n",
       " 81: (1, 80),\n",
       " 82: (2, 80),\n",
       " 83: (3, 80),\n",
       " 84: (2, 82),\n",
       " 85: (2, 83),\n",
       " 86: (6, 80),\n",
       " 87: (1, 86),\n",
       " 88: (2, 86),\n",
       " 89: (3, 86),\n",
       " 90: (10, 80),\n",
       " 91: (1, 90),\n",
       " 92: (2, 90),\n",
       " 93: (3, 90),\n",
       " 94: (2, 92),\n",
       " 95: (2, 93),\n",
       " 96: (6, 90),\n",
       " 97: (1, 96),\n",
       " 98: (2, 96),\n",
       " 99: (3, 96),\n",
       " 100: (10, 90),\n",
       " 101: (1, 100),\n",
       " 102: (2, 100),\n",
       " 103: (3, 100),\n",
       " 104: (2, 102),\n",
       " 105: (2, 103),\n",
       " 106: (6, 100),\n",
       " 107: (1, 106),\n",
       " 108: (2, 106),\n",
       " 109: (3, 106),\n",
       " 110: (10, 100),\n",
       " 111: (1, 110),\n",
       " 112: (2, 110),\n",
       " 113: (3, 110),\n",
       " 114: (2, 112),\n",
       " 115: (2, 113),\n",
       " 116: (6, 110),\n",
       " 117: (1, 116),\n",
       " 118: (2, 116),\n",
       " 119: (3, 116),\n",
       " 120: (10, 110),\n",
       " 121: (1, 120),\n",
       " 122: (2, 120),\n",
       " 123: (3, 120),\n",
       " 124: (2, 122),\n",
       " 125: (2, 123),\n",
       " 126: (6, 120),\n",
       " 127: (1, 126),\n",
       " 128: (2, 126),\n",
       " 129: (3, 126),\n",
       " 130: (10, 120),\n",
       " 131: (1, 130),\n",
       " 132: (2, 130),\n",
       " 133: (3, 130),\n",
       " 134: (2, 132),\n",
       " 135: (2, 133),\n",
       " 136: (6, 130),\n",
       " 137: (1, 136),\n",
       " 138: (2, 136),\n",
       " 139: (3, 136),\n",
       " 140: (10, 130),\n",
       " 141: (1, 140),\n",
       " 142: (2, 140),\n",
       " 143: (3, 140),\n",
       " 144: (2, 142),\n",
       " 145: (2, 143),\n",
       " 146: (6, 140),\n",
       " 147: (1, 146),\n",
       " 148: (2, 146),\n",
       " 149: (3, 146),\n",
       " 150: (10, 140),\n",
       " 151: (1, 150),\n",
       " 152: (2, 150),\n",
       " 153: (3, 150),\n",
       " 154: (2, 152),\n",
       " 155: (2, 153),\n",
       " 156: (6, 150),\n",
       " 157: (1, 156),\n",
       " 158: (2, 156),\n",
       " 159: (3, 156),\n",
       " 160: (10, 150),\n",
       " 161: (1, 160),\n",
       " 162: (2, 160),\n",
       " 163: (3, 160),\n",
       " 164: (2, 162),\n",
       " 165: (2, 163),\n",
       " 166: (6, 160),\n",
       " 167: (1, 166),\n",
       " 168: (2, 166),\n",
       " 169: (3, 166),\n",
       " 170: (10, 160),\n",
       " 171: (1, 170),\n",
       " 172: (2, 170),\n",
       " 173: (3, 170),\n",
       " 174: (2, 172),\n",
       " 175: (2, 173),\n",
       " 176: (6, 170),\n",
       " 177: (1, 176),\n",
       " 178: (2, 176),\n",
       " 179: (3, 176),\n",
       " 180: (10, 170),\n",
       " 181: (1, 180),\n",
       " 182: (2, 180),\n",
       " 183: (3, 180),\n",
       " 184: (2, 182),\n",
       " 185: (2, 183),\n",
       " 186: (6, 180),\n",
       " 187: (1, 186),\n",
       " 188: (2, 186),\n",
       " 189: (3, 186),\n",
       " 190: (10, 180),\n",
       " 191: (1, 190),\n",
       " 192: (2, 190),\n",
       " 193: (3, 190),\n",
       " 194: (2, 192),\n",
       " 195: (2, 193),\n",
       " 196: (6, 190),\n",
       " 197: (1, 196),\n",
       " 198: (2, 196),\n",
       " 199: (3, 196),\n",
       " 200: (10, 190),\n",
       " 201: (1, 200),\n",
       " 202: (2, 200),\n",
       " 203: (3, 200),\n",
       " 204: (2, 202),\n",
       " 205: (2, 203),\n",
       " 206: (6, 200),\n",
       " 207: (1, 206),\n",
       " 208: (2, 206),\n",
       " 209: (3, 206),\n",
       " 210: (10, 200),\n",
       " 211: (1, 210),\n",
       " 212: (2, 210),\n",
       " 213: (3, 210),\n",
       " 214: (2, 212),\n",
       " 215: (2, 213),\n",
       " 216: (6, 210),\n",
       " 217: (1, 216),\n",
       " 218: (2, 216),\n",
       " 219: (3, 216),\n",
       " 220: (10, 210),\n",
       " 221: (1, 220),\n",
       " 222: (2, 220),\n",
       " 223: (3, 220),\n",
       " 224: (2, 222),\n",
       " 225: (2, 223),\n",
       " 226: (6, 220),\n",
       " 227: (1, 226),\n",
       " 228: (2, 226),\n",
       " 229: (3, 226),\n",
       " 230: (10, 220),\n",
       " 231: (1, 230)}"
      ]
     },
     "execution_count": 227,
     "metadata": {},
     "output_type": "execute_result"
    }
   ],
   "source": [
    "solution"
   ]
  },
  {
   "cell_type": "code",
   "execution_count": 245,
   "metadata": {},
   "outputs": [],
   "source": [
    "def not_cut(split): return split == 0\n",
    "\n",
    "def parse_solution(target_length, revenue_solution):\n",
    "    left, right = revenue_solution[target_length]\n",
    "    \n",
    "    if not_cut(left): return [right]\n",
    "\n",
    "    return parse_solution(left, revenue_solution) + parse_solution(right, revenue_solution)"
   ]
  },
  {
   "cell_type": "code",
   "execution_count": 248,
   "metadata": {},
   "outputs": [
    {
     "data": {
      "text/plain": [
       "[3, 6, 10]"
      ]
     },
     "execution_count": 248,
     "metadata": {},
     "output_type": "execute_result"
    }
   ],
   "source": [
    "parse_solution(19, solution)"
   ]
  },
  {
   "cell_type": "markdown",
   "metadata": {},
   "source": [
    "## Edit Distance"
   ]
  },
  {
   "cell_type": "code",
   "execution_count": 284,
   "metadata": {},
   "outputs": [],
   "source": [
    "solution = {}"
   ]
  },
  {
   "cell_type": "code",
   "execution_count": 285,
   "metadata": {},
   "outputs": [],
   "source": [
    "@lru_cache(maxsize=2**10)\n",
    "def edit_distance(string1, string2):\n",
    "    \n",
    "    if len(string1) == 0: return len(string2)\n",
    "    if len(string2) == 0: return len(string1)\n",
    "    \n",
    "    tail_s1 = string1[-1]\n",
    "    tail_s2 = string2[-1]\n",
    "    \n",
    "    candidates = [\n",
    "        (edit_distance(string1[:-1], string2) + 1, 'DEL {}'.format(tail_s1)),  # string 1 delete tail\n",
    "        (edit_distance(string1, string2[:-1]) + 1, 'ADD {}'.format(tail_s2)),  # string 1 add tail of string2\n",
    "    ]\n",
    "    \n",
    "    if tail_s1 == tail_s2:\n",
    "        both_forward = (edit_distance(string1[:-1], string2[:-1]) + 0, '')\n",
    "    else:\n",
    "        both_forward = (edit_distance(string1[:-1], string2[:-1]) + 1, 'SUB {} => {}'.format(tail_s1, tail_s2))\n",
    "\n",
    "    candidates.append(both_forward)\n",
    "    \n",
    "    min_distance, operation = min(candidates, key=lambda x: x[0])\n",
    "    \n",
    "    solution[(string1, string2)] = operation \n",
    "    \n",
    "    return min_distance"
   ]
  },
  {
   "cell_type": "code",
   "execution_count": 288,
   "metadata": {},
   "outputs": [
    {
     "data": {
      "text/plain": [
       "2"
      ]
     },
     "execution_count": 288,
     "metadata": {},
     "output_type": "execute_result"
    }
   ],
   "source": [
    "edit_distance('ABCDE', 'ABCCEF')"
   ]
  },
  {
   "cell_type": "code",
   "execution_count": 289,
   "metadata": {},
   "outputs": [
    {
     "data": {
      "text/plain": [
       "{('A', 'A'): '',\n",
       " ('A', 'AB'): 'ADD B',\n",
       " ('A', 'ABC'): 'ADD C',\n",
       " ('A', 'ABCC'): 'ADD C',\n",
       " ('AB', 'A'): 'DEL B',\n",
       " ('AB', 'AB'): '',\n",
       " ('AB', 'ABC'): 'ADD C',\n",
       " ('AB', 'ABCC'): 'ADD C',\n",
       " ('ABC', 'A'): 'DEL C',\n",
       " ('ABC', 'AB'): 'DEL C',\n",
       " ('ABC', 'ABC'): '',\n",
       " ('ABC', 'ABCC'): 'ADD C',\n",
       " ('ABCD', 'A'): 'DEL D',\n",
       " ('ABCD', 'AB'): 'DEL D',\n",
       " ('ABCD', 'ABC'): 'DEL D',\n",
       " ('ABCD', 'ABCC'): 'SUB D => C',\n",
       " ('A', 'ABCCE'): 'ADD E',\n",
       " ('A', 'ABCCEF'): 'ADD F',\n",
       " ('AB', 'ABCCE'): 'ADD E',\n",
       " ('AB', 'ABCCEF'): 'ADD F',\n",
       " ('ABC', 'ABCCE'): 'ADD E',\n",
       " ('ABC', 'ABCCEF'): 'ADD F',\n",
       " ('ABCD', 'ABCCE'): 'ADD E',\n",
       " ('ABCD', 'ABCCEF'): 'ADD F',\n",
       " ('ABCDE', 'A'): 'DEL E',\n",
       " ('ABCDE', 'AB'): 'DEL E',\n",
       " ('ABCDE', 'ABC'): 'DEL E',\n",
       " ('ABCDE', 'ABCC'): 'DEL E',\n",
       " ('ABCDE', 'ABCCE'): '',\n",
       " ('ABCDE', 'ABCCEF'): 'ADD F'}"
      ]
     },
     "execution_count": 289,
     "metadata": {},
     "output_type": "execute_result"
    }
   ],
   "source": [
    "solution"
   ]
  },
  {
   "cell_type": "code",
   "execution_count": 275,
   "metadata": {},
   "outputs": [
    {
     "data": {
      "text/plain": [
       "{('1', '1'): '',\n",
       " ('1', '11'): 'ADD 1',\n",
       " ('1', '111'): 'ADD 1',\n",
       " ('1', '1110'): 'ADD 0',\n",
       " ('1', '11100'): 'ADD 0',\n",
       " ('10', '1'): 'DEL 0',\n",
       " ('10', '11'): 'DEL 0',\n",
       " ('10', '111'): 'DEL 0',\n",
       " ('10', '1110'): '',\n",
       " ('10', '11100'): 'ADD 0',\n",
       " ('101', '1'): 'DEL 1',\n",
       " ('101', '11'): '',\n",
       " ('101', '111'): 'ADD 1',\n",
       " ('101', '1110'): 'DEL 1',\n",
       " ('101', '11100'): 'DEL 1',\n",
       " ('1010', '1'): 'DEL 0',\n",
       " ('1010', '11'): 'DEL 0',\n",
       " ('1010', '111'): 'DEL 0',\n",
       " ('1010', '1110'): '',\n",
       " ('1010', '11100'): 'ADD 0',\n",
       " ('b', 'b'): '',\n",
       " ('b', 'bi'): 'ADD i',\n",
       " ('b', 'bie'): 'ADD e',\n",
       " ('b', 'biej'): 'ADD j',\n",
       " ('b', 'bieji'): 'ADD i',\n",
       " ('b', 'biejin'): 'ADD n',\n",
       " ('be', 'b'): 'DEL e',\n",
       " ('be', 'bi'): 'DEL e',\n",
       " ('be', 'bie'): '',\n",
       " ('be', 'biej'): 'ADD j',\n",
       " ('be', 'bieji'): 'ADD i',\n",
       " ('be', 'biejin'): 'ADD n',\n",
       " ('bei', 'b'): 'DEL i',\n",
       " ('bei', 'bi'): '',\n",
       " ('bei', 'bie'): 'DEL i',\n",
       " ('bei', 'biej'): 'DEL i',\n",
       " ('bei', 'bieji'): '',\n",
       " ('bei', 'biejin'): 'ADD n',\n",
       " ('beij', 'b'): 'DEL j',\n",
       " ('beij', 'bi'): 'DEL j',\n",
       " ('beij', 'bie'): 'DEL j',\n",
       " ('beij', 'biej'): '',\n",
       " ('beij', 'bieji'): 'DEL j',\n",
       " ('beij', 'biejin'): 'DEL j',\n",
       " ('beiji', 'b'): 'DEL i',\n",
       " ('beiji', 'bi'): 'DEL i',\n",
       " ('beiji', 'bie'): 'DEL i',\n",
       " ('beiji', 'biej'): 'DEL i',\n",
       " ('beiji', 'bieji'): '',\n",
       " ('beiji', 'biejin'): 'ADD n',\n",
       " ('beijin', 'b'): 'DEL n',\n",
       " ('beijin', 'bi'): 'DEL n',\n",
       " ('beijin', 'bie'): 'DEL n',\n",
       " ('beijin', 'biej'): 'DEL n',\n",
       " ('beijin', 'bieji'): 'DEL n',\n",
       " ('beijin', 'biejin'): '',\n",
       " ('beijing', 'b'): 'DEL g',\n",
       " ('beijing', 'bi'): 'DEL g',\n",
       " ('beijing', 'bie'): 'DEL g',\n",
       " ('beijing', 'biej'): 'DEL g',\n",
       " ('beijing', 'bieji'): 'DEL g',\n",
       " ('beijing', 'biejin'): 'DEL g'}"
      ]
     },
     "execution_count": 275,
     "metadata": {},
     "output_type": "execute_result"
    }
   ],
   "source": [
    "solution"
   ]
  },
  {
   "cell_type": "code",
   "execution_count": 273,
   "metadata": {},
   "outputs": [
    {
     "data": {
      "text/plain": [
       "{('1', '1'): '',\n",
       " ('1', '11'): 'ADD 1',\n",
       " ('1', '111'): 'ADD 1',\n",
       " ('1', '1110'): 'ADD 0',\n",
       " ('1', '11100'): 'ADD 0',\n",
       " ('10', '1'): 'DEL 0',\n",
       " ('10', '11'): 'DEL 0',\n",
       " ('10', '111'): 'DEL 0',\n",
       " ('10', '1110'): '',\n",
       " ('10', '11100'): 'ADD 0',\n",
       " ('101', '1'): 'DEL 1',\n",
       " ('101', '11'): '',\n",
       " ('101', '111'): 'ADD 1',\n",
       " ('101', '1110'): 'DEL 1',\n",
       " ('101', '11100'): 'DEL 1',\n",
       " ('1010', '1'): 'DEL 0',\n",
       " ('1010', '11'): 'DEL 0',\n",
       " ('1010', '111'): 'DEL 0',\n",
       " ('1010', '1110'): '',\n",
       " ('1010', '11100'): 'ADD 0'}"
      ]
     },
     "execution_count": 273,
     "metadata": {},
     "output_type": "execute_result"
    }
   ],
   "source": [
    "solution"
   ]
  },
  {
   "cell_type": "code",
   "execution_count": 269,
   "metadata": {},
   "outputs": [
    {
     "data": {
      "text/plain": [
       "2"
      ]
     },
     "execution_count": 269,
     "metadata": {},
     "output_type": "execute_result"
    }
   ],
   "source": [
    "edit_distance('ATCGGAA', 'ATCGGGA')"
   ]
  }
 ],
 "metadata": {
  "kernelspec": {
   "display_name": "Python 3",
   "language": "python",
   "name": "python3"
  },
  "language_info": {
   "codemirror_mode": {
    "name": "ipython",
    "version": 3
   },
   "file_extension": ".py",
   "mimetype": "text/x-python",
   "name": "python",
   "nbconvert_exporter": "python",
   "pygments_lexer": "ipython3",
   "version": "3.6.8"
  }
 },
 "nbformat": 4,
 "nbformat_minor": 2
}
